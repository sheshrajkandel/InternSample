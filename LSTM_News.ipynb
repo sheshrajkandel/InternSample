{
  "nbformat": 4,
  "nbformat_minor": 0,
  "metadata": {
    "colab": {
      "name": "LSTM-News.ipynb",
      "provenance": [],
      "mount_file_id": "1fTeAGX6NJLVuca-pxL3iYiXeKPscVv3F",
      "authorship_tag": "ABX9TyPekjzA0Zo1N8cQixfbW7nK",
      "include_colab_link": true
    },
    "kernelspec": {
      "name": "python3",
      "display_name": "Python 3"
    },
    "language_info": {
      "name": "python"
    }
  },
  "cells": [
    {
      "cell_type": "markdown",
      "metadata": {
        "id": "view-in-github",
        "colab_type": "text"
      },
      "source": [
        "<a href=\"https://colab.research.google.com/github/sheshrajkandel/InternSample/blob/master/LSTM_News.ipynb\" target=\"_parent\"><img src=\"https://colab.research.google.com/assets/colab-badge.svg\" alt=\"Open In Colab\"/></a>"
      ]
    },
    {
      "cell_type": "markdown",
      "source": [
        "##**Import the required packages**"
      ],
      "metadata": {
        "id": "OHknC0v1kLMO"
      }
    },
    {
      "cell_type": "code",
      "execution_count": 1,
      "metadata": {
        "id": "J3LVJNEuj4Nc"
      },
      "outputs": [],
      "source": [
        "from pandas import read_csv\n",
        "import matplotlib.pyplot as plt\n",
        "import numpy as np\n",
        "import pandas as pd\n",
        "from pandas import DataFrame\n",
        "from pandas import concat\n",
        "import pandas as pd\n",
        "from matplotlib import pyplot\n",
        "from keras.models import Sequential\n",
        "from keras.layers import Dense\n",
        "from keras.layers import LSTM,GRU\n",
        "from keras.callbacks import EarlyStopping\n",
        "from sklearn.preprocessing import MinMaxScaler\n",
        "from numpy import concatenate\n",
        "from math import sqrt\n",
        "from sklearn.metrics import r2_score, mean_absolute_error,mean_squared_error"
      ]
    },
    {
      "cell_type": "markdown",
      "source": [
        "###**Input dataset**"
      ],
      "metadata": {
        "id": "4K8SEDvoxuPK"
      }
    },
    {
      "cell_type": "code",
      "source": [
        "stock_news_score_data = \"/content/drive/MyDrive/Dissertation/nabil_stock_score_data.csv\"\n",
        "stock_data = \"/content/drive/MyDrive/Dissertation/NABIL_raw_stock_data.csv\"\n",
        "\n",
        "#for filename\n",
        "m_name=''\n",
        "m_set=''\n",
        "\n",
        "#1. Dataset with sentiment score\n",
        "#2. Dataset without sentiment score (Only stock dataset)\n",
        "dataset_choice = int(input(\"Choose the dataset: \"))\n",
        "\n",
        "if(dataset_choice == 1):\n",
        "  df = read_csv(stock_news_score_data, header=0, index_col=0)\n",
        "  dataset = df[['Close','Open','High','Low','Volume','SA_Score']]    \n",
        "  n_features = 6\n",
        "  m_set = 'All' #for filename\n",
        "elif(dataset_choice == 2):\n",
        "  df = read_csv(stock_data, header=0, index_col=0)\n",
        "  dataset = df[['Close','Open','High','Low','Volume']]\n",
        "  n_features = 5\n",
        "  m_set = 'Only'\n",
        "else:\n",
        "  print('Wrong Input! Please choose dataset.')\n",
        "\n",
        "dataset.head()"
      ],
      "metadata": {
        "colab": {
          "base_uri": "https://localhost:8080/",
          "height": 255
        },
        "id": "N2z8d-YTkS3F",
        "outputId": "60f9bd98-11dc-4efe-e5a1-2a0a40dfeebf"
      },
      "execution_count": 2,
      "outputs": [
        {
          "name": "stdout",
          "output_type": "stream",
          "text": [
            "Choose the dataset: 1\n"
          ]
        },
        {
          "output_type": "execute_result",
          "data": {
            "text/plain": [
              "            Close   Open   High    Low  Volume  SA_Score\n",
              "Date                                                    \n",
              "2022-05-31  875.0  890.0  890.0  865.0   45502    0.0000\n",
              "2022-05-30  890.0  900.0  901.0  881.0   44382    0.3680\n",
              "2022-05-27  898.0  900.0  900.0  896.0   39790    0.4019\n",
              "2022-05-26  898.6  918.0  918.0  897.0   39717    0.0000\n",
              "2022-05-25  900.0  915.0  915.0  898.0   38263    0.0000"
            ],
            "text/html": [
              "\n",
              "  <div id=\"df-1e5eab87-b191-4cc9-9171-a867a3860c5a\">\n",
              "    <div class=\"colab-df-container\">\n",
              "      <div>\n",
              "<style scoped>\n",
              "    .dataframe tbody tr th:only-of-type {\n",
              "        vertical-align: middle;\n",
              "    }\n",
              "\n",
              "    .dataframe tbody tr th {\n",
              "        vertical-align: top;\n",
              "    }\n",
              "\n",
              "    .dataframe thead th {\n",
              "        text-align: right;\n",
              "    }\n",
              "</style>\n",
              "<table border=\"1\" class=\"dataframe\">\n",
              "  <thead>\n",
              "    <tr style=\"text-align: right;\">\n",
              "      <th></th>\n",
              "      <th>Close</th>\n",
              "      <th>Open</th>\n",
              "      <th>High</th>\n",
              "      <th>Low</th>\n",
              "      <th>Volume</th>\n",
              "      <th>SA_Score</th>\n",
              "    </tr>\n",
              "    <tr>\n",
              "      <th>Date</th>\n",
              "      <th></th>\n",
              "      <th></th>\n",
              "      <th></th>\n",
              "      <th></th>\n",
              "      <th></th>\n",
              "      <th></th>\n",
              "    </tr>\n",
              "  </thead>\n",
              "  <tbody>\n",
              "    <tr>\n",
              "      <th>2022-05-31</th>\n",
              "      <td>875.0</td>\n",
              "      <td>890.0</td>\n",
              "      <td>890.0</td>\n",
              "      <td>865.0</td>\n",
              "      <td>45502</td>\n",
              "      <td>0.0000</td>\n",
              "    </tr>\n",
              "    <tr>\n",
              "      <th>2022-05-30</th>\n",
              "      <td>890.0</td>\n",
              "      <td>900.0</td>\n",
              "      <td>901.0</td>\n",
              "      <td>881.0</td>\n",
              "      <td>44382</td>\n",
              "      <td>0.3680</td>\n",
              "    </tr>\n",
              "    <tr>\n",
              "      <th>2022-05-27</th>\n",
              "      <td>898.0</td>\n",
              "      <td>900.0</td>\n",
              "      <td>900.0</td>\n",
              "      <td>896.0</td>\n",
              "      <td>39790</td>\n",
              "      <td>0.4019</td>\n",
              "    </tr>\n",
              "    <tr>\n",
              "      <th>2022-05-26</th>\n",
              "      <td>898.6</td>\n",
              "      <td>918.0</td>\n",
              "      <td>918.0</td>\n",
              "      <td>897.0</td>\n",
              "      <td>39717</td>\n",
              "      <td>0.0000</td>\n",
              "    </tr>\n",
              "    <tr>\n",
              "      <th>2022-05-25</th>\n",
              "      <td>900.0</td>\n",
              "      <td>915.0</td>\n",
              "      <td>915.0</td>\n",
              "      <td>898.0</td>\n",
              "      <td>38263</td>\n",
              "      <td>0.0000</td>\n",
              "    </tr>\n",
              "  </tbody>\n",
              "</table>\n",
              "</div>\n",
              "      <button class=\"colab-df-convert\" onclick=\"convertToInteractive('df-1e5eab87-b191-4cc9-9171-a867a3860c5a')\"\n",
              "              title=\"Convert this dataframe to an interactive table.\"\n",
              "              style=\"display:none;\">\n",
              "        \n",
              "  <svg xmlns=\"http://www.w3.org/2000/svg\" height=\"24px\"viewBox=\"0 0 24 24\"\n",
              "       width=\"24px\">\n",
              "    <path d=\"M0 0h24v24H0V0z\" fill=\"none\"/>\n",
              "    <path d=\"M18.56 5.44l.94 2.06.94-2.06 2.06-.94-2.06-.94-.94-2.06-.94 2.06-2.06.94zm-11 1L8.5 8.5l.94-2.06 2.06-.94-2.06-.94L8.5 2.5l-.94 2.06-2.06.94zm10 10l.94 2.06.94-2.06 2.06-.94-2.06-.94-.94-2.06-.94 2.06-2.06.94z\"/><path d=\"M17.41 7.96l-1.37-1.37c-.4-.4-.92-.59-1.43-.59-.52 0-1.04.2-1.43.59L10.3 9.45l-7.72 7.72c-.78.78-.78 2.05 0 2.83L4 21.41c.39.39.9.59 1.41.59.51 0 1.02-.2 1.41-.59l7.78-7.78 2.81-2.81c.8-.78.8-2.07 0-2.86zM5.41 20L4 18.59l7.72-7.72 1.47 1.35L5.41 20z\"/>\n",
              "  </svg>\n",
              "      </button>\n",
              "      \n",
              "  <style>\n",
              "    .colab-df-container {\n",
              "      display:flex;\n",
              "      flex-wrap:wrap;\n",
              "      gap: 12px;\n",
              "    }\n",
              "\n",
              "    .colab-df-convert {\n",
              "      background-color: #E8F0FE;\n",
              "      border: none;\n",
              "      border-radius: 50%;\n",
              "      cursor: pointer;\n",
              "      display: none;\n",
              "      fill: #1967D2;\n",
              "      height: 32px;\n",
              "      padding: 0 0 0 0;\n",
              "      width: 32px;\n",
              "    }\n",
              "\n",
              "    .colab-df-convert:hover {\n",
              "      background-color: #E2EBFA;\n",
              "      box-shadow: 0px 1px 2px rgba(60, 64, 67, 0.3), 0px 1px 3px 1px rgba(60, 64, 67, 0.15);\n",
              "      fill: #174EA6;\n",
              "    }\n",
              "\n",
              "    [theme=dark] .colab-df-convert {\n",
              "      background-color: #3B4455;\n",
              "      fill: #D2E3FC;\n",
              "    }\n",
              "\n",
              "    [theme=dark] .colab-df-convert:hover {\n",
              "      background-color: #434B5C;\n",
              "      box-shadow: 0px 1px 3px 1px rgba(0, 0, 0, 0.15);\n",
              "      filter: drop-shadow(0px 1px 2px rgba(0, 0, 0, 0.3));\n",
              "      fill: #FFFFFF;\n",
              "    }\n",
              "  </style>\n",
              "\n",
              "      <script>\n",
              "        const buttonEl =\n",
              "          document.querySelector('#df-1e5eab87-b191-4cc9-9171-a867a3860c5a button.colab-df-convert');\n",
              "        buttonEl.style.display =\n",
              "          google.colab.kernel.accessAllowed ? 'block' : 'none';\n",
              "\n",
              "        async function convertToInteractive(key) {\n",
              "          const element = document.querySelector('#df-1e5eab87-b191-4cc9-9171-a867a3860c5a');\n",
              "          const dataTable =\n",
              "            await google.colab.kernel.invokeFunction('convertToInteractive',\n",
              "                                                     [key], {});\n",
              "          if (!dataTable) return;\n",
              "\n",
              "          const docLinkHtml = 'Like what you see? Visit the ' +\n",
              "            '<a target=\"_blank\" href=https://colab.research.google.com/notebooks/data_table.ipynb>data table notebook</a>'\n",
              "            + ' to learn more about interactive tables.';\n",
              "          element.innerHTML = '';\n",
              "          dataTable['output_type'] = 'display_data';\n",
              "          await google.colab.output.renderOutput(dataTable, element);\n",
              "          const docLink = document.createElement('div');\n",
              "          docLink.innerHTML = docLinkHtml;\n",
              "          element.appendChild(docLink);\n",
              "        }\n",
              "      </script>\n",
              "    </div>\n",
              "  </div>\n",
              "  "
            ]
          },
          "metadata": {},
          "execution_count": 2
        }
      ]
    },
    {
      "cell_type": "code",
      "source": [
        "dataset=dataset.reset_index()\n",
        "dataset.head()"
      ],
      "metadata": {
        "colab": {
          "base_uri": "https://localhost:8080/",
          "height": 206
        },
        "id": "AmsgdrkQyB5W",
        "outputId": "6c24b771-b143-415d-8573-1e1ea9152cc5"
      },
      "execution_count": 3,
      "outputs": [
        {
          "output_type": "execute_result",
          "data": {
            "text/plain": [
              "         Date  Close   Open   High    Low  Volume  SA_Score\n",
              "0  2022-05-31  875.0  890.0  890.0  865.0   45502    0.0000\n",
              "1  2022-05-30  890.0  900.0  901.0  881.0   44382    0.3680\n",
              "2  2022-05-27  898.0  900.0  900.0  896.0   39790    0.4019\n",
              "3  2022-05-26  898.6  918.0  918.0  897.0   39717    0.0000\n",
              "4  2022-05-25  900.0  915.0  915.0  898.0   38263    0.0000"
            ],
            "text/html": [
              "\n",
              "  <div id=\"df-9abf3550-64db-44d0-a719-d514b8d246ed\">\n",
              "    <div class=\"colab-df-container\">\n",
              "      <div>\n",
              "<style scoped>\n",
              "    .dataframe tbody tr th:only-of-type {\n",
              "        vertical-align: middle;\n",
              "    }\n",
              "\n",
              "    .dataframe tbody tr th {\n",
              "        vertical-align: top;\n",
              "    }\n",
              "\n",
              "    .dataframe thead th {\n",
              "        text-align: right;\n",
              "    }\n",
              "</style>\n",
              "<table border=\"1\" class=\"dataframe\">\n",
              "  <thead>\n",
              "    <tr style=\"text-align: right;\">\n",
              "      <th></th>\n",
              "      <th>Date</th>\n",
              "      <th>Close</th>\n",
              "      <th>Open</th>\n",
              "      <th>High</th>\n",
              "      <th>Low</th>\n",
              "      <th>Volume</th>\n",
              "      <th>SA_Score</th>\n",
              "    </tr>\n",
              "  </thead>\n",
              "  <tbody>\n",
              "    <tr>\n",
              "      <th>0</th>\n",
              "      <td>2022-05-31</td>\n",
              "      <td>875.0</td>\n",
              "      <td>890.0</td>\n",
              "      <td>890.0</td>\n",
              "      <td>865.0</td>\n",
              "      <td>45502</td>\n",
              "      <td>0.0000</td>\n",
              "    </tr>\n",
              "    <tr>\n",
              "      <th>1</th>\n",
              "      <td>2022-05-30</td>\n",
              "      <td>890.0</td>\n",
              "      <td>900.0</td>\n",
              "      <td>901.0</td>\n",
              "      <td>881.0</td>\n",
              "      <td>44382</td>\n",
              "      <td>0.3680</td>\n",
              "    </tr>\n",
              "    <tr>\n",
              "      <th>2</th>\n",
              "      <td>2022-05-27</td>\n",
              "      <td>898.0</td>\n",
              "      <td>900.0</td>\n",
              "      <td>900.0</td>\n",
              "      <td>896.0</td>\n",
              "      <td>39790</td>\n",
              "      <td>0.4019</td>\n",
              "    </tr>\n",
              "    <tr>\n",
              "      <th>3</th>\n",
              "      <td>2022-05-26</td>\n",
              "      <td>898.6</td>\n",
              "      <td>918.0</td>\n",
              "      <td>918.0</td>\n",
              "      <td>897.0</td>\n",
              "      <td>39717</td>\n",
              "      <td>0.0000</td>\n",
              "    </tr>\n",
              "    <tr>\n",
              "      <th>4</th>\n",
              "      <td>2022-05-25</td>\n",
              "      <td>900.0</td>\n",
              "      <td>915.0</td>\n",
              "      <td>915.0</td>\n",
              "      <td>898.0</td>\n",
              "      <td>38263</td>\n",
              "      <td>0.0000</td>\n",
              "    </tr>\n",
              "  </tbody>\n",
              "</table>\n",
              "</div>\n",
              "      <button class=\"colab-df-convert\" onclick=\"convertToInteractive('df-9abf3550-64db-44d0-a719-d514b8d246ed')\"\n",
              "              title=\"Convert this dataframe to an interactive table.\"\n",
              "              style=\"display:none;\">\n",
              "        \n",
              "  <svg xmlns=\"http://www.w3.org/2000/svg\" height=\"24px\"viewBox=\"0 0 24 24\"\n",
              "       width=\"24px\">\n",
              "    <path d=\"M0 0h24v24H0V0z\" fill=\"none\"/>\n",
              "    <path d=\"M18.56 5.44l.94 2.06.94-2.06 2.06-.94-2.06-.94-.94-2.06-.94 2.06-2.06.94zm-11 1L8.5 8.5l.94-2.06 2.06-.94-2.06-.94L8.5 2.5l-.94 2.06-2.06.94zm10 10l.94 2.06.94-2.06 2.06-.94-2.06-.94-.94-2.06-.94 2.06-2.06.94z\"/><path d=\"M17.41 7.96l-1.37-1.37c-.4-.4-.92-.59-1.43-.59-.52 0-1.04.2-1.43.59L10.3 9.45l-7.72 7.72c-.78.78-.78 2.05 0 2.83L4 21.41c.39.39.9.59 1.41.59.51 0 1.02-.2 1.41-.59l7.78-7.78 2.81-2.81c.8-.78.8-2.07 0-2.86zM5.41 20L4 18.59l7.72-7.72 1.47 1.35L5.41 20z\"/>\n",
              "  </svg>\n",
              "      </button>\n",
              "      \n",
              "  <style>\n",
              "    .colab-df-container {\n",
              "      display:flex;\n",
              "      flex-wrap:wrap;\n",
              "      gap: 12px;\n",
              "    }\n",
              "\n",
              "    .colab-df-convert {\n",
              "      background-color: #E8F0FE;\n",
              "      border: none;\n",
              "      border-radius: 50%;\n",
              "      cursor: pointer;\n",
              "      display: none;\n",
              "      fill: #1967D2;\n",
              "      height: 32px;\n",
              "      padding: 0 0 0 0;\n",
              "      width: 32px;\n",
              "    }\n",
              "\n",
              "    .colab-df-convert:hover {\n",
              "      background-color: #E2EBFA;\n",
              "      box-shadow: 0px 1px 2px rgba(60, 64, 67, 0.3), 0px 1px 3px 1px rgba(60, 64, 67, 0.15);\n",
              "      fill: #174EA6;\n",
              "    }\n",
              "\n",
              "    [theme=dark] .colab-df-convert {\n",
              "      background-color: #3B4455;\n",
              "      fill: #D2E3FC;\n",
              "    }\n",
              "\n",
              "    [theme=dark] .colab-df-convert:hover {\n",
              "      background-color: #434B5C;\n",
              "      box-shadow: 0px 1px 3px 1px rgba(0, 0, 0, 0.15);\n",
              "      filter: drop-shadow(0px 1px 2px rgba(0, 0, 0, 0.3));\n",
              "      fill: #FFFFFF;\n",
              "    }\n",
              "  </style>\n",
              "\n",
              "      <script>\n",
              "        const buttonEl =\n",
              "          document.querySelector('#df-9abf3550-64db-44d0-a719-d514b8d246ed button.colab-df-convert');\n",
              "        buttonEl.style.display =\n",
              "          google.colab.kernel.accessAllowed ? 'block' : 'none';\n",
              "\n",
              "        async function convertToInteractive(key) {\n",
              "          const element = document.querySelector('#df-9abf3550-64db-44d0-a719-d514b8d246ed');\n",
              "          const dataTable =\n",
              "            await google.colab.kernel.invokeFunction('convertToInteractive',\n",
              "                                                     [key], {});\n",
              "          if (!dataTable) return;\n",
              "\n",
              "          const docLinkHtml = 'Like what you see? Visit the ' +\n",
              "            '<a target=\"_blank\" href=https://colab.research.google.com/notebooks/data_table.ipynb>data table notebook</a>'\n",
              "            + ' to learn more about interactive tables.';\n",
              "          element.innerHTML = '';\n",
              "          dataTable['output_type'] = 'display_data';\n",
              "          await google.colab.output.renderOutput(dataTable, element);\n",
              "          const docLink = document.createElement('div');\n",
              "          docLink.innerHTML = docLinkHtml;\n",
              "          element.appendChild(docLink);\n",
              "        }\n",
              "      </script>\n",
              "    </div>\n",
              "  </div>\n",
              "  "
            ]
          },
          "metadata": {},
          "execution_count": 3
        }
      ]
    },
    {
      "cell_type": "code",
      "source": [
        "dataset.shape"
      ],
      "metadata": {
        "colab": {
          "base_uri": "https://localhost:8080/"
        },
        "id": "KiHhjCkvUp4Y",
        "outputId": "6c568e29-e93b-4bee-da3a-ae9ee4c6a37a"
      },
      "execution_count": 4,
      "outputs": [
        {
          "output_type": "execute_result",
          "data": {
            "text/plain": [
              "(2528, 7)"
            ]
          },
          "metadata": {},
          "execution_count": 4
        }
      ]
    },
    {
      "cell_type": "code",
      "source": [
        "# Number of positive \n",
        "dataset[dataset.SA_Score > 0].value_counts().sum()"
      ],
      "metadata": {
        "colab": {
          "base_uri": "https://localhost:8080/"
        },
        "id": "qgFNCAdhUxng",
        "outputId": "784379bd-8e74-424d-94cf-070cdc586020"
      },
      "execution_count": 5,
      "outputs": [
        {
          "output_type": "execute_result",
          "data": {
            "text/plain": [
              "294"
            ]
          },
          "metadata": {},
          "execution_count": 5
        }
      ]
    },
    {
      "cell_type": "code",
      "source": [
        "corr = dataset.corr()\n",
        "corr.style.background_gradient(cmap='coolwarm').set_precision(2)"
      ],
      "metadata": {
        "colab": {
          "base_uri": "https://localhost:8080/",
          "height": 272
        },
        "id": "k4XrCanFS9eS",
        "outputId": "c9ed1143-223b-4433-b5bb-a378e5e16e47"
      },
      "execution_count": 6,
      "outputs": [
        {
          "output_type": "stream",
          "name": "stderr",
          "text": [
            "/usr/local/lib/python3.7/dist-packages/ipykernel_launcher.py:2: FutureWarning: this method is deprecated in favour of `Styler.format(precision=..)`\n",
            "  \n"
          ]
        },
        {
          "output_type": "execute_result",
          "data": {
            "text/plain": [
              "<pandas.io.formats.style.Styler at 0x7f7d3f217b90>"
            ],
            "text/html": [
              "<style type=\"text/css\">\n",
              "#T_01fa9_row0_col0, #T_01fa9_row0_col1, #T_01fa9_row0_col2, #T_01fa9_row0_col3, #T_01fa9_row1_col0, #T_01fa9_row1_col1, #T_01fa9_row1_col2, #T_01fa9_row1_col3, #T_01fa9_row2_col0, #T_01fa9_row2_col1, #T_01fa9_row2_col2, #T_01fa9_row2_col3, #T_01fa9_row3_col0, #T_01fa9_row3_col1, #T_01fa9_row3_col2, #T_01fa9_row3_col3, #T_01fa9_row4_col4, #T_01fa9_row5_col5 {\n",
              "  background-color: #b40426;\n",
              "  color: #f1f1f1;\n",
              "}\n",
              "#T_01fa9_row0_col4, #T_01fa9_row1_col4 {\n",
              "  background-color: #3c4ec2;\n",
              "  color: #f1f1f1;\n",
              "}\n",
              "#T_01fa9_row0_col5, #T_01fa9_row1_col5, #T_01fa9_row2_col5, #T_01fa9_row3_col4, #T_01fa9_row3_col5, #T_01fa9_row4_col0, #T_01fa9_row4_col1, #T_01fa9_row4_col2, #T_01fa9_row4_col3 {\n",
              "  background-color: #3b4cc0;\n",
              "  color: #f1f1f1;\n",
              "}\n",
              "#T_01fa9_row2_col4 {\n",
              "  background-color: #3d50c3;\n",
              "  color: #f1f1f1;\n",
              "}\n",
              "#T_01fa9_row4_col5 {\n",
              "  background-color: #8caffe;\n",
              "  color: #000000;\n",
              "}\n",
              "#T_01fa9_row5_col0 {\n",
              "  background-color: #465ecf;\n",
              "  color: #f1f1f1;\n",
              "}\n",
              "#T_01fa9_row5_col1, #T_01fa9_row5_col3 {\n",
              "  background-color: #485fd1;\n",
              "  color: #f1f1f1;\n",
              "}\n",
              "#T_01fa9_row5_col2 {\n",
              "  background-color: #455cce;\n",
              "  color: #f1f1f1;\n",
              "}\n",
              "#T_01fa9_row5_col4 {\n",
              "  background-color: #98b9ff;\n",
              "  color: #000000;\n",
              "}\n",
              "</style>\n",
              "<table id=\"T_01fa9_\" class=\"dataframe\">\n",
              "  <thead>\n",
              "    <tr>\n",
              "      <th class=\"blank level0\" >&nbsp;</th>\n",
              "      <th class=\"col_heading level0 col0\" >Close</th>\n",
              "      <th class=\"col_heading level0 col1\" >Open</th>\n",
              "      <th class=\"col_heading level0 col2\" >High</th>\n",
              "      <th class=\"col_heading level0 col3\" >Low</th>\n",
              "      <th class=\"col_heading level0 col4\" >Volume</th>\n",
              "      <th class=\"col_heading level0 col5\" >SA_Score</th>\n",
              "    </tr>\n",
              "  </thead>\n",
              "  <tbody>\n",
              "    <tr>\n",
              "      <th id=\"T_01fa9_level0_row0\" class=\"row_heading level0 row0\" >Close</th>\n",
              "      <td id=\"T_01fa9_row0_col0\" class=\"data row0 col0\" >1.00</td>\n",
              "      <td id=\"T_01fa9_row0_col1\" class=\"data row0 col1\" >1.00</td>\n",
              "      <td id=\"T_01fa9_row0_col2\" class=\"data row0 col2\" >1.00</td>\n",
              "      <td id=\"T_01fa9_row0_col3\" class=\"data row0 col3\" >1.00</td>\n",
              "      <td id=\"T_01fa9_row0_col4\" class=\"data row0 col4\" >-0.14</td>\n",
              "      <td id=\"T_01fa9_row0_col5\" class=\"data row0 col5\" >-0.09</td>\n",
              "    </tr>\n",
              "    <tr>\n",
              "      <th id=\"T_01fa9_level0_row1\" class=\"row_heading level0 row1\" >Open</th>\n",
              "      <td id=\"T_01fa9_row1_col0\" class=\"data row1 col0\" >1.00</td>\n",
              "      <td id=\"T_01fa9_row1_col1\" class=\"data row1 col1\" >1.00</td>\n",
              "      <td id=\"T_01fa9_row1_col2\" class=\"data row1 col2\" >1.00</td>\n",
              "      <td id=\"T_01fa9_row1_col3\" class=\"data row1 col3\" >1.00</td>\n",
              "      <td id=\"T_01fa9_row1_col4\" class=\"data row1 col4\" >-0.14</td>\n",
              "      <td id=\"T_01fa9_row1_col5\" class=\"data row1 col5\" >-0.09</td>\n",
              "    </tr>\n",
              "    <tr>\n",
              "      <th id=\"T_01fa9_level0_row2\" class=\"row_heading level0 row2\" >High</th>\n",
              "      <td id=\"T_01fa9_row2_col0\" class=\"data row2 col0\" >1.00</td>\n",
              "      <td id=\"T_01fa9_row2_col1\" class=\"data row2 col1\" >1.00</td>\n",
              "      <td id=\"T_01fa9_row2_col2\" class=\"data row2 col2\" >1.00</td>\n",
              "      <td id=\"T_01fa9_row2_col3\" class=\"data row2 col3\" >1.00</td>\n",
              "      <td id=\"T_01fa9_row2_col4\" class=\"data row2 col4\" >-0.13</td>\n",
              "      <td id=\"T_01fa9_row2_col5\" class=\"data row2 col5\" >-0.09</td>\n",
              "    </tr>\n",
              "    <tr>\n",
              "      <th id=\"T_01fa9_level0_row3\" class=\"row_heading level0 row3\" >Low</th>\n",
              "      <td id=\"T_01fa9_row3_col0\" class=\"data row3 col0\" >1.00</td>\n",
              "      <td id=\"T_01fa9_row3_col1\" class=\"data row3 col1\" >1.00</td>\n",
              "      <td id=\"T_01fa9_row3_col2\" class=\"data row3 col2\" >1.00</td>\n",
              "      <td id=\"T_01fa9_row3_col3\" class=\"data row3 col3\" >1.00</td>\n",
              "      <td id=\"T_01fa9_row3_col4\" class=\"data row3 col4\" >-0.14</td>\n",
              "      <td id=\"T_01fa9_row3_col5\" class=\"data row3 col5\" >-0.09</td>\n",
              "    </tr>\n",
              "    <tr>\n",
              "      <th id=\"T_01fa9_level0_row4\" class=\"row_heading level0 row4\" >Volume</th>\n",
              "      <td id=\"T_01fa9_row4_col0\" class=\"data row4 col0\" >-0.14</td>\n",
              "      <td id=\"T_01fa9_row4_col1\" class=\"data row4 col1\" >-0.14</td>\n",
              "      <td id=\"T_01fa9_row4_col2\" class=\"data row4 col2\" >-0.13</td>\n",
              "      <td id=\"T_01fa9_row4_col3\" class=\"data row4 col3\" >-0.14</td>\n",
              "      <td id=\"T_01fa9_row4_col4\" class=\"data row4 col4\" >1.00</td>\n",
              "      <td id=\"T_01fa9_row4_col5\" class=\"data row4 col5\" >0.18</td>\n",
              "    </tr>\n",
              "    <tr>\n",
              "      <th id=\"T_01fa9_level0_row5\" class=\"row_heading level0 row5\" >SA_Score</th>\n",
              "      <td id=\"T_01fa9_row5_col0\" class=\"data row5 col0\" >-0.09</td>\n",
              "      <td id=\"T_01fa9_row5_col1\" class=\"data row5 col1\" >-0.09</td>\n",
              "      <td id=\"T_01fa9_row5_col2\" class=\"data row5 col2\" >-0.09</td>\n",
              "      <td id=\"T_01fa9_row5_col3\" class=\"data row5 col3\" >-0.09</td>\n",
              "      <td id=\"T_01fa9_row5_col4\" class=\"data row5 col4\" >0.18</td>\n",
              "      <td id=\"T_01fa9_row5_col5\" class=\"data row5 col5\" >1.00</td>\n",
              "    </tr>\n",
              "  </tbody>\n",
              "</table>\n"
            ]
          },
          "metadata": {},
          "execution_count": 6
        }
      ]
    },
    {
      "cell_type": "code",
      "source": [
        "#Set the date as index of dataset\n",
        "dataset['Date'] = pd.to_datetime(dataset['Date']).dt.date\n",
        "dataset.set_index('Date',drop = True,inplace=True)\n",
        "\n",
        "#Plot the closing price for trend analysis\n",
        "plt.plot(dataset['Close'])\n"
      ],
      "metadata": {
        "colab": {
          "base_uri": "https://localhost:8080/",
          "height": 282
        },
        "id": "HSNV0TfzyWwD",
        "outputId": "e4ee529f-2459-4e4f-a617-7f83b8a29701"
      },
      "execution_count": 7,
      "outputs": [
        {
          "output_type": "execute_result",
          "data": {
            "text/plain": [
              "[<matplotlib.lines.Line2D at 0x7f7d3ee1f9d0>]"
            ]
          },
          "metadata": {},
          "execution_count": 7
        },
        {
          "output_type": "display_data",
          "data": {
            "text/plain": [
              "<Figure size 432x288 with 1 Axes>"
            ],
            "image/png": "[encoded data removed]"
          },
          "metadata": {
            "needs_background": "light"
          }
        }
      ]
    },
    {
      "cell_type": "code",
      "source": [
        "dataset.head()"
      ],
      "metadata": {
        "colab": {
          "base_uri": "https://localhost:8080/",
          "height": 237
        },
        "id": "lY1LekHm3AjK",
        "outputId": "5c839120-1830-49a9-d82e-e745ea262b8a"
      },
      "execution_count": 8,
      "outputs": [
        {
          "output_type": "execute_result",
          "data": {
            "text/plain": [
              "            Close   Open   High    Low  Volume  SA_Score\n",
              "Date                                                    \n",
              "2022-05-31  875.0  890.0  890.0  865.0   45502    0.0000\n",
              "2022-05-30  890.0  900.0  901.0  881.0   44382    0.3680\n",
              "2022-05-27  898.0  900.0  900.0  896.0   39790    0.4019\n",
              "2022-05-26  898.6  918.0  918.0  897.0   39717    0.0000\n",
              "2022-05-25  900.0  915.0  915.0  898.0   38263    0.0000"
            ],
            "text/html": [
              "\n",
              "  <div id=\"df-9ea110d0-6c4e-4577-b41f-6b3fa36e2dd8\">\n",
              "    <div class=\"colab-df-container\">\n",
              "      <div>\n",
              "<style scoped>\n",
              "    .dataframe tbody tr th:only-of-type {\n",
              "        vertical-align: middle;\n",
              "    }\n",
              "\n",
              "    .dataframe tbody tr th {\n",
              "        vertical-align: top;\n",
              "    }\n",
              "\n",
              "    .dataframe thead th {\n",
              "        text-align: right;\n",
              "    }\n",
              "</style>\n",
              "<table border=\"1\" class=\"dataframe\">\n",
              "  <thead>\n",
              "    <tr style=\"text-align: right;\">\n",
              "      <th></th>\n",
              "      <th>Close</th>\n",
              "      <th>Open</th>\n",
              "      <th>High</th>\n",
              "      <th>Low</th>\n",
              "      <th>Volume</th>\n",
              "      <th>SA_Score</th>\n",
              "    </tr>\n",
              "    <tr>\n",
              "      <th>Date</th>\n",
              "      <th></th>\n",
              "      <th></th>\n",
              "      <th></th>\n",
              "      <th></th>\n",
              "      <th></th>\n",
              "      <th></th>\n",
              "    </tr>\n",
              "  </thead>\n",
              "  <tbody>\n",
              "    <tr>\n",
              "      <th>2022-05-31</th>\n",
              "      <td>875.0</td>\n",
              "      <td>890.0</td>\n",
              "      <td>890.0</td>\n",
              "      <td>865.0</td>\n",
              "      <td>45502</td>\n",
              "      <td>0.0000</td>\n",
              "    </tr>\n",
              "    <tr>\n",
              "      <th>2022-05-30</th>\n",
              "      <td>890.0</td>\n",
              "      <td>900.0</td>\n",
              "      <td>901.0</td>\n",
              "      <td>881.0</td>\n",
              "      <td>44382</td>\n",
              "      <td>0.3680</td>\n",
              "    </tr>\n",
              "    <tr>\n",
              "      <th>2022-05-27</th>\n",
              "      <td>898.0</td>\n",
              "      <td>900.0</td>\n",
              "      <td>900.0</td>\n",
              "      <td>896.0</td>\n",
              "      <td>39790</td>\n",
              "      <td>0.4019</td>\n",
              "    </tr>\n",
              "    <tr>\n",
              "      <th>2022-05-26</th>\n",
              "      <td>898.6</td>\n",
              "      <td>918.0</td>\n",
              "      <td>918.0</td>\n",
              "      <td>897.0</td>\n",
              "      <td>39717</td>\n",
              "      <td>0.0000</td>\n",
              "    </tr>\n",
              "    <tr>\n",
              "      <th>2022-05-25</th>\n",
              "      <td>900.0</td>\n",
              "      <td>915.0</td>\n",
              "      <td>915.0</td>\n",
              "      <td>898.0</td>\n",
              "      <td>38263</td>\n",
              "      <td>0.0000</td>\n",
              "    </tr>\n",
              "  </tbody>\n",
              "</table>\n",
              "</div>\n",
              "      <button class=\"colab-df-convert\" onclick=\"convertToInteractive('df-9ea110d0-6c4e-4577-b41f-6b3fa36e2dd8')\"\n",
              "              title=\"Convert this dataframe to an interactive table.\"\n",
              "              style=\"display:none;\">\n",
              "        \n",
              "  <svg xmlns=\"http://www.w3.org/2000/svg\" height=\"24px\"viewBox=\"0 0 24 24\"\n",
              "       width=\"24px\">\n",
              "    <path d=\"M0 0h24v24H0V0z\" fill=\"none\"/>\n",
              "    <path d=\"M18.56 5.44l.94 2.06.94-2.06 2.06-.94-2.06-.94-.94-2.06-.94 2.06-2.06.94zm-11 1L8.5 8.5l.94-2.06 2.06-.94-2.06-.94L8.5 2.5l-.94 2.06-2.06.94zm10 10l.94 2.06.94-2.06 2.06-.94-2.06-.94-.94-2.06-.94 2.06-2.06.94z\"/><path d=\"M17.41 7.96l-1.37-1.37c-.4-.4-.92-.59-1.43-.59-.52 0-1.04.2-1.43.59L10.3 9.45l-7.72 7.72c-.78.78-.78 2.05 0 2.83L4 21.41c.39.39.9.59 1.41.59.51 0 1.02-.2 1.41-.59l7.78-7.78 2.81-2.81c.8-.78.8-2.07 0-2.86zM5.41 20L4 18.59l7.72-7.72 1.47 1.35L5.41 20z\"/>\n",
              "  </svg>\n",
              "      </button>\n",
              "      \n",
              "  <style>\n",
              "    .colab-df-container {\n",
              "      display:flex;\n",
              "      flex-wrap:wrap;\n",
              "      gap: 12px;\n",
              "    }\n",
              "\n",
              "    .colab-df-convert {\n",
              "      background-color: #E8F0FE;\n",
              "      border: none;\n",
              "      border-radius: 50%;\n",
              "      cursor: pointer;\n",
              "      display: none;\n",
              "      fill: #1967D2;\n",
              "      height: 32px;\n",
              "      padding: 0 0 0 0;\n",
              "      width: 32px;\n",
              "    }\n",
              "\n",
              "    .colab-df-convert:hover {\n",
              "      background-color: #E2EBFA;\n",
              "      box-shadow: 0px 1px 2px rgba(60, 64, 67, 0.3), 0px 1px 3px 1px rgba(60, 64, 67, 0.15);\n",
              "      fill: #174EA6;\n",
              "    }\n",
              "\n",
              "    [theme=dark] .colab-df-convert {\n",
              "      background-color: #3B4455;\n",
              "      fill: #D2E3FC;\n",
              "    }\n",
              "\n",
              "    [theme=dark] .colab-df-convert:hover {\n",
              "      background-color: #434B5C;\n",
              "      box-shadow: 0px 1px 3px 1px rgba(0, 0, 0, 0.15);\n",
              "      filter: drop-shadow(0px 1px 2px rgba(0, 0, 0, 0.3));\n",
              "      fill: #FFFFFF;\n",
              "    }\n",
              "  </style>\n",
              "\n",
              "      <script>\n",
              "        const buttonEl =\n",
              "          document.querySelector('#df-9ea110d0-6c4e-4577-b41f-6b3fa36e2dd8 button.colab-df-convert');\n",
              "        buttonEl.style.display =\n",
              "          google.colab.kernel.accessAllowed ? 'block' : 'none';\n",
              "\n",
              "        async function convertToInteractive(key) {\n",
              "          const element = document.querySelector('#df-9ea110d0-6c4e-4577-b41f-6b3fa36e2dd8');\n",
              "          const dataTable =\n",
              "            await google.colab.kernel.invokeFunction('convertToInteractive',\n",
              "                                                     [key], {});\n",
              "          if (!dataTable) return;\n",
              "\n",
              "          const docLinkHtml = 'Like what you see? Visit the ' +\n",
              "            '<a target=\"_blank\" href=https://colab.research.google.com/notebooks/data_table.ipynb>data table notebook</a>'\n",
              "            + ' to learn more about interactive tables.';\n",
              "          element.innerHTML = '';\n",
              "          dataTable['output_type'] = 'display_data';\n",
              "          await google.colab.output.renderOutput(dataTable, element);\n",
              "          const docLink = document.createElement('div');\n",
              "          docLink.innerHTML = docLinkHtml;\n",
              "          element.appendChild(docLink);\n",
              "        }\n",
              "      </script>\n",
              "    </div>\n",
              "  </div>\n",
              "  "
            ]
          },
          "metadata": {},
          "execution_count": 8
        }
      ]
    },
    {
      "cell_type": "code",
      "source": [
        "dataset=dataset.sort_index()\n",
        "dataset.head()"
      ],
      "metadata": {
        "colab": {
          "base_uri": "https://localhost:8080/",
          "height": 237
        },
        "id": "B2FITEeb3ItB",
        "outputId": "be20eece-8185-4dc6-eaf9-494cad5fe86e"
      },
      "execution_count": 9,
      "outputs": [
        {
          "output_type": "execute_result",
          "data": {
            "text/plain": [
              "             Close    Open    High     Low  Volume  SA_Score\n",
              "Date                                                        \n",
              "2011-03-20  1170.0  1200.0  1190.0  1160.0     853       0.0\n",
              "2011-03-24  1153.0  1162.0  1178.0  1150.0     356       0.0\n",
              "2011-03-25  1174.0  1153.0  1174.0  1145.0     702       0.0\n",
              "2011-03-27  1147.0  1174.0  1160.0  1120.0    1426       0.0\n",
              "2011-03-28  1132.0  1147.0  1150.0  1110.0     352       0.0"
            ],
            "text/html": [
              "\n",
              "  <div id=\"df-305c1686-a149-4e80-b7bf-74b60695b12f\">\n",
              "    <div class=\"colab-df-container\">\n",
              "      <div>\n",
              "<style scoped>\n",
              "    .dataframe tbody tr th:only-of-type {\n",
              "        vertical-align: middle;\n",
              "    }\n",
              "\n",
              "    .dataframe tbody tr th {\n",
              "        vertical-align: top;\n",
              "    }\n",
              "\n",
              "    .dataframe thead th {\n",
              "        text-align: right;\n",
              "    }\n",
              "</style>\n",
              "<table border=\"1\" class=\"dataframe\">\n",
              "  <thead>\n",
              "    <tr style=\"text-align: right;\">\n",
              "      <th></th>\n",
              "      <th>Close</th>\n",
              "      <th>Open</th>\n",
              "      <th>High</th>\n",
              "      <th>Low</th>\n",
              "      <th>Volume</th>\n",
              "      <th>SA_Score</th>\n",
              "    </tr>\n",
              "    <tr>\n",
              "      <th>Date</th>\n",
              "      <th></th>\n",
              "      <th></th>\n",
              "      <th></th>\n",
              "      <th></th>\n",
              "      <th></th>\n",
              "      <th></th>\n",
              "    </tr>\n",
              "  </thead>\n",
              "  <tbody>\n",
              "    <tr>\n",
              "      <th>2011-03-20</th>\n",
              "      <td>1170.0</td>\n",
              "      <td>1200.0</td>\n",
              "      <td>1190.0</td>\n",
              "      <td>1160.0</td>\n",
              "      <td>853</td>\n",
              "      <td>0.0</td>\n",
              "    </tr>\n",
              "    <tr>\n",
              "      <th>2011-03-24</th>\n",
              "      <td>1153.0</td>\n",
              "      <td>1162.0</td>\n",
              "      <td>1178.0</td>\n",
              "      <td>1150.0</td>\n",
              "      <td>356</td>\n",
              "      <td>0.0</td>\n",
              "    </tr>\n",
              "    <tr>\n",
              "      <th>2011-03-25</th>\n",
              "      <td>1174.0</td>\n",
              "      <td>1153.0</td>\n",
              "      <td>1174.0</td>\n",
              "      <td>1145.0</td>\n",
              "      <td>702</td>\n",
              "      <td>0.0</td>\n",
              "    </tr>\n",
              "    <tr>\n",
              "      <th>2011-03-27</th>\n",
              "      <td>1147.0</td>\n",
              "      <td>1174.0</td>\n",
              "      <td>1160.0</td>\n",
              "      <td>1120.0</td>\n",
              "      <td>1426</td>\n",
              "      <td>0.0</td>\n",
              "    </tr>\n",
              "    <tr>\n",
              "      <th>2011-03-28</th>\n",
              "      <td>1132.0</td>\n",
              "      <td>1147.0</td>\n",
              "      <td>1150.0</td>\n",
              "      <td>1110.0</td>\n",
              "      <td>352</td>\n",
              "      <td>0.0</td>\n",
              "    </tr>\n",
              "  </tbody>\n",
              "</table>\n",
              "</div>\n",
              "      <button class=\"colab-df-convert\" onclick=\"convertToInteractive('df-305c1686-a149-4e80-b7bf-74b60695b12f')\"\n",
              "              title=\"Convert this dataframe to an interactive table.\"\n",
              "              style=\"display:none;\">\n",
              "        \n",
              "  <svg xmlns=\"http://www.w3.org/2000/svg\" height=\"24px\"viewBox=\"0 0 24 24\"\n",
              "       width=\"24px\">\n",
              "    <path d=\"M0 0h24v24H0V0z\" fill=\"none\"/>\n",
              "    <path d=\"M18.56 5.44l.94 2.06.94-2.06 2.06-.94-2.06-.94-.94-2.06-.94 2.06-2.06.94zm-11 1L8.5 8.5l.94-2.06 2.06-.94-2.06-.94L8.5 2.5l-.94 2.06-2.06.94zm10 10l.94 2.06.94-2.06 2.06-.94-2.06-.94-.94-2.06-.94 2.06-2.06.94z\"/><path d=\"M17.41 7.96l-1.37-1.37c-.4-.4-.92-.59-1.43-.59-.52 0-1.04.2-1.43.59L10.3 9.45l-7.72 7.72c-.78.78-.78 2.05 0 2.83L4 21.41c.39.39.9.59 1.41.59.51 0 1.02-.2 1.41-.59l7.78-7.78 2.81-2.81c.8-.78.8-2.07 0-2.86zM5.41 20L4 18.59l7.72-7.72 1.47 1.35L5.41 20z\"/>\n",
              "  </svg>\n",
              "      </button>\n",
              "      \n",
              "  <style>\n",
              "    .colab-df-container {\n",
              "      display:flex;\n",
              "      flex-wrap:wrap;\n",
              "      gap: 12px;\n",
              "    }\n",
              "\n",
              "    .colab-df-convert {\n",
              "      background-color: #E8F0FE;\n",
              "      border: none;\n",
              "      border-radius: 50%;\n",
              "      cursor: pointer;\n",
              "      display: none;\n",
              "      fill: #1967D2;\n",
              "      height: 32px;\n",
              "      padding: 0 0 0 0;\n",
              "      width: 32px;\n",
              "    }\n",
              "\n",
              "    .colab-df-convert:hover {\n",
              "      background-color: #E2EBFA;\n",
              "      box-shadow: 0px 1px 2px rgba(60, 64, 67, 0.3), 0px 1px 3px 1px rgba(60, 64, 67, 0.15);\n",
              "      fill: #174EA6;\n",
              "    }\n",
              "\n",
              "    [theme=dark] .colab-df-convert {\n",
              "      background-color: #3B4455;\n",
              "      fill: #D2E3FC;\n",
              "    }\n",
              "\n",
              "    [theme=dark] .colab-df-convert:hover {\n",
              "      background-color: #434B5C;\n",
              "      box-shadow: 0px 1px 3px 1px rgba(0, 0, 0, 0.15);\n",
              "      filter: drop-shadow(0px 1px 2px rgba(0, 0, 0, 0.3));\n",
              "      fill: #FFFFFF;\n",
              "    }\n",
              "  </style>\n",
              "\n",
              "      <script>\n",
              "        const buttonEl =\n",
              "          document.querySelector('#df-305c1686-a149-4e80-b7bf-74b60695b12f button.colab-df-convert');\n",
              "        buttonEl.style.display =\n",
              "          google.colab.kernel.accessAllowed ? 'block' : 'none';\n",
              "\n",
              "        async function convertToInteractive(key) {\n",
              "          const element = document.querySelector('#df-305c1686-a149-4e80-b7bf-74b60695b12f');\n",
              "          const dataTable =\n",
              "            await google.colab.kernel.invokeFunction('convertToInteractive',\n",
              "                                                     [key], {});\n",
              "          if (!dataTable) return;\n",
              "\n",
              "          const docLinkHtml = 'Like what you see? Visit the ' +\n",
              "            '<a target=\"_blank\" href=https://colab.research.google.com/notebooks/data_table.ipynb>data table notebook</a>'\n",
              "            + ' to learn more about interactive tables.';\n",
              "          element.innerHTML = '';\n",
              "          dataTable['output_type'] = 'display_data';\n",
              "          await google.colab.output.renderOutput(dataTable, element);\n",
              "          const docLink = document.createElement('div');\n",
              "          docLink.innerHTML = docLinkHtml;\n",
              "          element.appendChild(docLink);\n",
              "        }\n",
              "      </script>\n",
              "    </div>\n",
              "  </div>\n",
              "  "
            ]
          },
          "metadata": {},
          "execution_count": 9
        }
      ]
    },
    {
      "cell_type": "markdown",
      "source": [
        "###**Convert series to supervised learning**"
      ],
      "metadata": {
        "id": "2Mp4bEtU3zKx"
      }
    },
    {
      "cell_type": "code",
      "source": [
        "def series_to_supervised(data, n_in=1, n_out=1, dropnan=True):\n",
        "\tn_vars = 1 if type(data) is list else data.shape[1]\n",
        "\tdf = DataFrame(data)\n",
        "\tcols, names = list(), list()\n",
        "\tfor i in range(n_in, 0, -1):\n",
        "\t\tcols.append(df.shift(i))\n",
        "\t\tnames += [('var%d(t-%d)' % (j+1, i)) for j in range(n_vars)]\n",
        "\t#Forecast sequence (t, t+1, ... t+n)\n",
        "\tfor i in range(0, n_out):\n",
        "\t\tcols.append(df.shift(-i))\n",
        "\t\tif i == 0:\n",
        "\t\t\tnames += [('var%d(t)' % (j+1)) for j in range(n_vars)]\n",
        "\t\telse:\n",
        "\t\t\tnames += [('var%d(t+%d)' % (j+1, i)) for j in range(n_vars)]\n",
        "\t#Put it all together\n",
        "\tagg = concat(cols, axis=1)\n",
        "\tagg.columns = names\n",
        "\t#Drop rows with NaN values\n",
        "\tif dropnan:\n",
        "\t\tagg.dropna(inplace=True)\n",
        "\treturn agg"
      ],
      "metadata": {
        "id": "-tg5fDSa3eRd"
      },
      "execution_count": 10,
      "outputs": []
    },
    {
      "cell_type": "code",
      "source": [
        "#Prepare for the time-series generation\n",
        "\n",
        "data = series_to_supervised(dataset, 12,1)\n",
        "values = dataset.values\n",
        "values = values.astype('float32')\n",
        "\n",
        "#Normalize the data using min-max normalizations\n",
        "scaler = MinMaxScaler(feature_range=(0, 1))\n",
        "scaled = scaler.fit_transform(values)\n",
        "\n",
        "#Specify the number of lag hours 10,12,14,16,18,20\n",
        "n_lag = 12\n",
        "\n",
        "#Frame as supervised learning\n",
        "reframed = series_to_supervised(scaled, n_lag, 1)"
      ],
      "metadata": {
        "id": "SvdHqp5X3_RD"
      },
      "execution_count": 11,
      "outputs": []
    },
    {
      "cell_type": "markdown",
      "source": [
        "###**Split into train, validation and test sets**"
      ],
      "metadata": {
        "id": "u4JuoyDbApUo"
      }
    },
    {
      "cell_type": "code",
      "source": [
        "values = reframed.values\n",
        "n_train = int(365 * 4)\n",
        "n_val=int(n_train*0.8)\n",
        "train = values[:n_val, :]\n",
        "val=values[n_val:n_train,:]\n",
        "test = values[n_train:, :]"
      ],
      "metadata": {
        "id": "4E_S6IOSAeJ1"
      },
      "execution_count": 12,
      "outputs": []
    },
    {
      "cell_type": "code",
      "source": [
        "#store the test data set index for comparing it with result\n",
        "x_test_panda=dataset.iloc[n_train:,:]"
      ],
      "metadata": {
        "id": "kLD-ANZwA0Ih"
      },
      "execution_count": 13,
      "outputs": []
    },
    {
      "cell_type": "code",
      "source": [
        "#Split into input and outputs\n",
        "n_obs = n_lag * n_features\n",
        "train_X, train_y = train[:, :n_obs], train[:, -n_features]\n",
        "val_X, val_y=val[:,:n_obs],val[:,-n_features]\n",
        "test_X, test_y = test[:, :n_obs], test[:, -n_features]\n",
        "print(train_X.shape, len(train_X), train_y.shape)"
      ],
      "metadata": {
        "colab": {
          "base_uri": "https://localhost:8080/"
        },
        "id": "Gfn3gK_CBRZR",
        "outputId": "59f3938a-4a70-4002-94c2-791743a259d6"
      },
      "execution_count": 14,
      "outputs": [
        {
          "output_type": "stream",
          "name": "stdout",
          "text": [
            "(1168, 72) 1168 (1168,)\n"
          ]
        }
      ]
    },
    {
      "cell_type": "code",
      "source": [
        "#Reshape input to be 3D [samples, timesteps, features]\n",
        "train_X = np.reshape(train_X, (train_X.shape[0], n_lag, n_features))\n",
        "val_X = np.reshape(val_X, (val_X.shape[0], n_lag, n_features))\n",
        "test_X = np.reshape(test_X, (test_X.shape[0], n_lag, n_features))\n",
        "\n",
        "print(train_X.shape, train_y.shape, test_X.shape, test_y.shape)"
      ],
      "metadata": {
        "colab": {
          "base_uri": "https://localhost:8080/"
        },
        "id": "dBbLWnAqBdaZ",
        "outputId": "aafb1b61-3435-458b-b462-2027e85adc3a"
      },
      "execution_count": 15,
      "outputs": [
        {
          "output_type": "stream",
          "name": "stdout",
          "text": [
            "(1168, 12, 6) (1168,) (1056, 12, 6) (1056,)\n"
          ]
        }
      ]
    },
    {
      "cell_type": "code",
      "source": [
        "def plot_history(history):\n",
        "  #Plot history\n",
        "  pyplot.plot(history.history['loss'], label='Train')\n",
        "  pyplot.plot(history.history['val_loss'], label='Test')\n",
        "  pyplot.legend()\n",
        "  pyplot.show()"
      ],
      "metadata": {
        "id": "oPfkW-x_By5w"
      },
      "execution_count": 16,
      "outputs": []
    },
    {
      "cell_type": "code",
      "source": [
        "model = Sequential()\n",
        "model.add(LSTM(120,input_shape=(train_X.shape[1], train_X.shape[2])))\n",
        "m_name = 'LSTM'\n",
        "model.add(Dense(1))\n",
        "model.compile(loss='mse', optimizer='adam',metrics=['mse','mae'])"
      ],
      "metadata": {
        "id": "CZy3yiTLB0tq"
      },
      "execution_count": 17,
      "outputs": []
    },
    {
      "cell_type": "code",
      "source": [
        "history = model.fit(train_X, train_y, epochs=100, batch_size=30, validation_data=(val_X, val_y),callbacks=[EarlyStopping(monitor='val_loss', patience=10)], verbose=2, shuffle=False)\n",
        "\n",
        "plot_history(history)"
      ],
      "metadata": {
        "colab": {
          "base_uri": "https://localhost:8080/",
          "height": 1000
        },
        "id": "tpUJOeCbC7Hy",
        "outputId": "b04ccbcf-8e14-4aff-ea5f-d216f8709231"
      },
      "execution_count": 18,
      "outputs": [
        {
          "output_type": "stream",
          "name": "stdout",
          "text": [
            "Epoch 1/100\n",
            "39/39 - 3s - loss: 0.0052 - mse: 0.0052 - mae: 0.0550 - val_loss: 0.0020 - val_mse: 0.0020 - val_mae: 0.0268 - 3s/epoch - 81ms/step\n",
            "Epoch 2/100\n",
            "39/39 - 0s - loss: 0.0022 - mse: 0.0022 - mae: 0.0336 - val_loss: 0.0028 - val_mse: 0.0028 - val_mae: 0.0384 - 439ms/epoch - 11ms/step\n",
            "Epoch 3/100\n",
            "39/39 - 0s - loss: 0.0023 - mse: 0.0023 - mae: 0.0372 - val_loss: 0.0022 - val_mse: 0.0022 - val_mae: 0.0321 - 437ms/epoch - 11ms/step\n",
            "Epoch 4/100\n",
            "39/39 - 0s - loss: 0.0017 - mse: 0.0017 - mae: 0.0293 - val_loss: 0.0016 - val_mse: 0.0016 - val_mae: 0.0218 - 416ms/epoch - 11ms/step\n",
            "Epoch 5/100\n",
            "39/39 - 0s - loss: 0.0013 - mse: 0.0013 - mae: 0.0242 - val_loss: 0.0015 - val_mse: 0.0015 - val_mae: 0.0203 - 491ms/epoch - 13ms/step\n",
            "Epoch 6/100\n",
            "39/39 - 1s - loss: 0.0013 - mse: 0.0013 - mae: 0.0234 - val_loss: 0.0015 - val_mse: 0.0015 - val_mae: 0.0218 - 666ms/epoch - 17ms/step\n",
            "Epoch 7/100\n",
            "39/39 - 1s - loss: 0.0013 - mse: 0.0013 - mae: 0.0249 - val_loss: 0.0015 - val_mse: 0.0015 - val_mae: 0.0234 - 752ms/epoch - 19ms/step\n",
            "Epoch 8/100\n",
            "39/39 - 1s - loss: 0.0013 - mse: 0.0013 - mae: 0.0257 - val_loss: 0.0015 - val_mse: 0.0015 - val_mae: 0.0234 - 741ms/epoch - 19ms/step\n",
            "Epoch 9/100\n",
            "39/39 - 1s - loss: 0.0013 - mse: 0.0013 - mae: 0.0250 - val_loss: 0.0014 - val_mse: 0.0014 - val_mae: 0.0223 - 755ms/epoch - 19ms/step\n",
            "Epoch 10/100\n",
            "39/39 - 1s - loss: 0.0012 - mse: 0.0012 - mae: 0.0237 - val_loss: 0.0013 - val_mse: 0.0013 - val_mae: 0.0208 - 785ms/epoch - 20ms/step\n",
            "Epoch 11/100\n",
            "39/39 - 1s - loss: 0.0011 - mse: 0.0011 - mae: 0.0226 - val_loss: 0.0013 - val_mse: 0.0013 - val_mae: 0.0199 - 789ms/epoch - 20ms/step\n",
            "Epoch 12/100\n",
            "39/39 - 1s - loss: 0.0011 - mse: 0.0011 - mae: 0.0224 - val_loss: 0.0012 - val_mse: 0.0012 - val_mae: 0.0198 - 702ms/epoch - 18ms/step\n",
            "Epoch 13/100\n",
            "39/39 - 1s - loss: 0.0011 - mse: 0.0011 - mae: 0.0231 - val_loss: 0.0012 - val_mse: 0.0012 - val_mae: 0.0205 - 730ms/epoch - 19ms/step\n",
            "Epoch 14/100\n",
            "39/39 - 1s - loss: 0.0011 - mse: 0.0011 - mae: 0.0241 - val_loss: 0.0013 - val_mse: 0.0013 - val_mae: 0.0217 - 703ms/epoch - 18ms/step\n",
            "Epoch 15/100\n",
            "39/39 - 1s - loss: 0.0011 - mse: 0.0011 - mae: 0.0238 - val_loss: 0.0012 - val_mse: 0.0012 - val_mae: 0.0207 - 822ms/epoch - 21ms/step\n",
            "Epoch 16/100\n",
            "39/39 - 1s - loss: 9.9305e-04 - mse: 9.9305e-04 - mae: 0.0214 - val_loss: 0.0011 - val_mse: 0.0011 - val_mae: 0.0182 - 815ms/epoch - 21ms/step\n",
            "Epoch 17/100\n",
            "39/39 - 1s - loss: 8.8620e-04 - mse: 8.8620e-04 - mae: 0.0191 - val_loss: 0.0010 - val_mse: 0.0010 - val_mae: 0.0171 - 855ms/epoch - 22ms/step\n",
            "Epoch 18/100\n",
            "39/39 - 1s - loss: 8.5109e-04 - mse: 8.5109e-04 - mae: 0.0185 - val_loss: 0.0010 - val_mse: 0.0010 - val_mae: 0.0171 - 765ms/epoch - 20ms/step\n",
            "Epoch 19/100\n",
            "39/39 - 1s - loss: 8.6777e-04 - mse: 8.6777e-04 - mae: 0.0193 - val_loss: 0.0010 - val_mse: 0.0010 - val_mae: 0.0175 - 752ms/epoch - 19ms/step\n",
            "Epoch 20/100\n",
            "39/39 - 1s - loss: 9.4671e-04 - mse: 9.4671e-04 - mae: 0.0214 - val_loss: 0.0011 - val_mse: 0.0011 - val_mae: 0.0192 - 715ms/epoch - 18ms/step\n",
            "Epoch 21/100\n",
            "39/39 - 1s - loss: 0.0011 - mse: 0.0011 - mae: 0.0238 - val_loss: 0.0012 - val_mse: 0.0012 - val_mae: 0.0217 - 744ms/epoch - 19ms/step\n",
            "Epoch 22/100\n",
            "39/39 - 1s - loss: 0.0010 - mse: 0.0010 - mae: 0.0228 - val_loss: 0.0010 - val_mse: 0.0010 - val_mae: 0.0179 - 764ms/epoch - 20ms/step\n",
            "Epoch 23/100\n",
            "39/39 - 1s - loss: 8.0889e-04 - mse: 8.0889e-04 - mae: 0.0184 - val_loss: 9.2663e-04 - val_mse: 9.2663e-04 - val_mae: 0.0151 - 882ms/epoch - 23ms/step\n",
            "Epoch 24/100\n",
            "39/39 - 1s - loss: 7.3913e-04 - mse: 7.3913e-04 - mae: 0.0166 - val_loss: 9.0130e-04 - val_mse: 9.0130e-04 - val_mae: 0.0150 - 871ms/epoch - 22ms/step\n",
            "Epoch 25/100\n",
            "39/39 - 1s - loss: 7.2588e-04 - mse: 7.2588e-04 - mae: 0.0167 - val_loss: 9.1284e-04 - val_mse: 9.1284e-04 - val_mae: 0.0158 - 951ms/epoch - 24ms/step\n",
            "Epoch 26/100\n",
            "39/39 - 1s - loss: 7.6869e-04 - mse: 7.6869e-04 - mae: 0.0183 - val_loss: 9.4410e-04 - val_mse: 9.4410e-04 - val_mae: 0.0168 - 841ms/epoch - 22ms/step\n",
            "Epoch 27/100\n",
            "39/39 - 1s - loss: 8.4071e-04 - mse: 8.4071e-04 - mae: 0.0202 - val_loss: 0.0010 - val_mse: 0.0010 - val_mae: 0.0186 - 871ms/epoch - 22ms/step\n",
            "Epoch 28/100\n",
            "39/39 - 1s - loss: 8.6576e-04 - mse: 8.6576e-04 - mae: 0.0208 - val_loss: 9.9686e-04 - val_mse: 9.9686e-04 - val_mae: 0.0179 - 1s/epoch - 27ms/step\n",
            "Epoch 29/100\n",
            "39/39 - 1s - loss: 7.6259e-04 - mse: 7.6259e-04 - mae: 0.0186 - val_loss: 8.9138e-04 - val_mse: 8.9138e-04 - val_mae: 0.0154 - 706ms/epoch - 18ms/step\n",
            "Epoch 30/100\n",
            "39/39 - 0s - loss: 6.7546e-04 - mse: 6.7546e-04 - mae: 0.0163 - val_loss: 8.4502e-04 - val_mse: 8.4502e-04 - val_mae: 0.0144 - 403ms/epoch - 10ms/step\n",
            "Epoch 31/100\n",
            "39/39 - 0s - loss: 6.5527e-04 - mse: 6.5527e-04 - mae: 0.0159 - val_loss: 8.4079e-04 - val_mse: 8.4079e-04 - val_mae: 0.0146 - 410ms/epoch - 11ms/step\n",
            "Epoch 32/100\n",
            "39/39 - 0s - loss: 6.7755e-04 - mse: 6.7755e-04 - mae: 0.0169 - val_loss: 8.5759e-04 - val_mse: 8.5759e-04 - val_mae: 0.0153 - 422ms/epoch - 11ms/step\n",
            "Epoch 33/100\n",
            "39/39 - 0s - loss: 7.3009e-04 - mse: 7.3009e-04 - mae: 0.0184 - val_loss: 9.0454e-04 - val_mse: 9.0454e-04 - val_mae: 0.0166 - 427ms/epoch - 11ms/step\n",
            "Epoch 34/100\n",
            "39/39 - 0s - loss: 7.7746e-04 - mse: 7.7746e-04 - mae: 0.0196 - val_loss: 9.3595e-04 - val_mse: 9.3595e-04 - val_mae: 0.0173 - 424ms/epoch - 11ms/step\n",
            "Epoch 35/100\n",
            "39/39 - 0s - loss: 7.3868e-04 - mse: 7.3868e-04 - mae: 0.0189 - val_loss: 8.7503e-04 - val_mse: 8.7503e-04 - val_mae: 0.0158 - 400ms/epoch - 10ms/step\n",
            "Epoch 36/100\n",
            "39/39 - 0s - loss: 6.5273e-04 - mse: 6.5273e-04 - mae: 0.0167 - val_loss: 8.1294e-04 - val_mse: 8.1294e-04 - val_mae: 0.0141 - 410ms/epoch - 11ms/step\n",
            "Epoch 37/100\n",
            "39/39 - 0s - loss: 6.1017e-04 - mse: 6.1017e-04 - mae: 0.0155 - val_loss: 7.9324e-04 - val_mse: 7.9324e-04 - val_mae: 0.0137 - 412ms/epoch - 11ms/step\n",
            "Epoch 38/100\n",
            "39/39 - 0s - loss: 6.0980e-04 - mse: 6.0980e-04 - mae: 0.0156 - val_loss: 7.9921e-04 - val_mse: 7.9921e-04 - val_mae: 0.0141 - 436ms/epoch - 11ms/step\n",
            "Epoch 39/100\n",
            "39/39 - 0s - loss: 6.3654e-04 - mse: 6.3654e-04 - mae: 0.0166 - val_loss: 8.1981e-04 - val_mse: 8.1981e-04 - val_mae: 0.0148 - 418ms/epoch - 11ms/step\n",
            "Epoch 40/100\n",
            "39/39 - 0s - loss: 6.7739e-04 - mse: 6.7739e-04 - mae: 0.0178 - val_loss: 8.5092e-04 - val_mse: 8.5092e-04 - val_mae: 0.0157 - 410ms/epoch - 11ms/step\n",
            "Epoch 41/100\n",
            "39/39 - 0s - loss: 6.9919e-04 - mse: 6.9919e-04 - mae: 0.0184 - val_loss: 8.6024e-04 - val_mse: 8.6024e-04 - val_mae: 0.0160 - 403ms/epoch - 10ms/step\n",
            "Epoch 42/100\n",
            "39/39 - 0s - loss: 6.6979e-04 - mse: 6.6979e-04 - mae: 0.0177 - val_loss: 8.2531e-04 - val_mse: 8.2531e-04 - val_mae: 0.0150 - 409ms/epoch - 10ms/step\n",
            "Epoch 43/100\n",
            "39/39 - 0s - loss: 6.1874e-04 - mse: 6.1874e-04 - mae: 0.0164 - val_loss: 7.8737e-04 - val_mse: 7.8737e-04 - val_mae: 0.0140 - 418ms/epoch - 11ms/step\n",
            "Epoch 44/100\n",
            "39/39 - 0s - loss: 5.8933e-04 - mse: 5.8933e-04 - mae: 0.0155 - val_loss: 7.7102e-04 - val_mse: 7.7102e-04 - val_mae: 0.0137 - 414ms/epoch - 11ms/step\n",
            "Epoch 45/100\n",
            "39/39 - 0s - loss: 5.8578e-04 - mse: 5.8578e-04 - mae: 0.0155 - val_loss: 7.7185e-04 - val_mse: 7.7185e-04 - val_mae: 0.0138 - 420ms/epoch - 11ms/step\n",
            "Epoch 46/100\n",
            "39/39 - 0s - loss: 5.9917e-04 - mse: 5.9917e-04 - mae: 0.0160 - val_loss: 7.8167e-04 - val_mse: 7.8167e-04 - val_mae: 0.0143 - 433ms/epoch - 11ms/step\n",
            "Epoch 47/100\n",
            "39/39 - 0s - loss: 6.2113e-04 - mse: 6.2113e-04 - mae: 0.0167 - val_loss: 7.9519e-04 - val_mse: 7.9519e-04 - val_mae: 0.0148 - 415ms/epoch - 11ms/step\n",
            "Epoch 48/100\n",
            "39/39 - 0s - loss: 6.3911e-04 - mse: 6.3911e-04 - mae: 0.0172 - val_loss: 8.0413e-04 - val_mse: 8.0413e-04 - val_mae: 0.0151 - 425ms/epoch - 11ms/step\n",
            "Epoch 49/100\n",
            "39/39 - 0s - loss: 6.3922e-04 - mse: 6.3922e-04 - mae: 0.0172 - val_loss: 7.9790e-04 - val_mse: 7.9790e-04 - val_mae: 0.0150 - 414ms/epoch - 11ms/step\n",
            "Epoch 50/100\n",
            "39/39 - 0s - loss: 6.2133e-04 - mse: 6.2133e-04 - mae: 0.0168 - val_loss: 7.7988e-04 - val_mse: 7.7988e-04 - val_mae: 0.0145 - 420ms/epoch - 11ms/step\n",
            "Epoch 51/100\n",
            "39/39 - 0s - loss: 6.0005e-04 - mse: 6.0005e-04 - mae: 0.0162 - val_loss: 7.6294e-04 - val_mse: 7.6294e-04 - val_mae: 0.0141 - 422ms/epoch - 11ms/step\n",
            "Epoch 52/100\n",
            "39/39 - 0s - loss: 5.8672e-04 - mse: 5.8672e-04 - mae: 0.0158 - val_loss: 7.5218e-04 - val_mse: 7.5218e-04 - val_mae: 0.0139 - 409ms/epoch - 10ms/step\n",
            "Epoch 53/100\n",
            "39/39 - 0s - loss: 5.8294e-04 - mse: 5.8294e-04 - mae: 0.0157 - val_loss: 7.4903e-04 - val_mse: 7.4903e-04 - val_mae: 0.0139 - 415ms/epoch - 11ms/step\n",
            "Epoch 54/100\n",
            "39/39 - 0s - loss: 5.8843e-04 - mse: 5.8843e-04 - mae: 0.0159 - val_loss: 7.5112e-04 - val_mse: 7.5112e-04 - val_mae: 0.0141 - 419ms/epoch - 11ms/step\n",
            "Epoch 55/100\n",
            "39/39 - 0s - loss: 5.9713e-04 - mse: 5.9713e-04 - mae: 0.0162 - val_loss: 7.5369e-04 - val_mse: 7.5369e-04 - val_mae: 0.0143 - 420ms/epoch - 11ms/step\n",
            "Epoch 56/100\n",
            "39/39 - 0s - loss: 6.0451e-04 - mse: 6.0451e-04 - mae: 0.0164 - val_loss: 7.5497e-04 - val_mse: 7.5497e-04 - val_mae: 0.0145 - 444ms/epoch - 11ms/step\n",
            "Epoch 57/100\n",
            "39/39 - 0s - loss: 6.0837e-04 - mse: 6.0837e-04 - mae: 0.0166 - val_loss: 7.5356e-04 - val_mse: 7.5356e-04 - val_mae: 0.0145 - 423ms/epoch - 11ms/step\n",
            "Epoch 58/100\n",
            "39/39 - 0s - loss: 6.0695e-04 - mse: 6.0695e-04 - mae: 0.0165 - val_loss: 7.4827e-04 - val_mse: 7.4827e-04 - val_mae: 0.0144 - 454ms/epoch - 12ms/step\n",
            "Epoch 59/100\n",
            "39/39 - 0s - loss: 6.0113e-04 - mse: 6.0113e-04 - mae: 0.0164 - val_loss: 7.3923e-04 - val_mse: 7.3923e-04 - val_mae: 0.0143 - 413ms/epoch - 11ms/step\n",
            "Epoch 60/100\n",
            "39/39 - 0s - loss: 5.9673e-04 - mse: 5.9673e-04 - mae: 0.0162 - val_loss: 7.3505e-04 - val_mse: 7.3505e-04 - val_mae: 0.0143 - 416ms/epoch - 11ms/step\n",
            "Epoch 61/100\n",
            "39/39 - 0s - loss: 5.9926e-04 - mse: 5.9926e-04 - mae: 0.0164 - val_loss: 7.3660e-04 - val_mse: 7.3660e-04 - val_mae: 0.0144 - 429ms/epoch - 11ms/step\n",
            "Epoch 62/100\n",
            "39/39 - 0s - loss: 6.0065e-04 - mse: 6.0065e-04 - mae: 0.0164 - val_loss: 7.3060e-04 - val_mse: 7.3060e-04 - val_mae: 0.0143 - 438ms/epoch - 11ms/step\n",
            "Epoch 63/100\n",
            "39/39 - 0s - loss: 5.9488e-04 - mse: 5.9488e-04 - mae: 0.0162 - val_loss: 7.2509e-04 - val_mse: 7.2509e-04 - val_mae: 0.0143 - 435ms/epoch - 11ms/step\n",
            "Epoch 64/100\n",
            "39/39 - 0s - loss: 5.9146e-04 - mse: 5.9146e-04 - mae: 0.0162 - val_loss: 7.1879e-04 - val_mse: 7.1879e-04 - val_mae: 0.0141 - 433ms/epoch - 11ms/step\n",
            "Epoch 65/100\n",
            "39/39 - 0s - loss: 5.8496e-04 - mse: 5.8496e-04 - mae: 0.0160 - val_loss: 7.1094e-04 - val_mse: 7.1094e-04 - val_mae: 0.0140 - 431ms/epoch - 11ms/step\n",
            "Epoch 66/100\n",
            "39/39 - 0s - loss: 5.8037e-04 - mse: 5.8037e-04 - mae: 0.0159 - val_loss: 7.0591e-04 - val_mse: 7.0591e-04 - val_mae: 0.0139 - 425ms/epoch - 11ms/step\n",
            "Epoch 67/100\n",
            "39/39 - 0s - loss: 5.8019e-04 - mse: 5.8019e-04 - mae: 0.0159 - val_loss: 7.0380e-04 - val_mse: 7.0380e-04 - val_mae: 0.0140 - 414ms/epoch - 11ms/step\n",
            "Epoch 68/100\n",
            "39/39 - 0s - loss: 5.8355e-04 - mse: 5.8355e-04 - mae: 0.0160 - val_loss: 7.0393e-04 - val_mse: 7.0393e-04 - val_mae: 0.0141 - 429ms/epoch - 11ms/step\n",
            "Epoch 69/100\n",
            "39/39 - 0s - loss: 5.8902e-04 - mse: 5.8902e-04 - mae: 0.0162 - val_loss: 7.0510e-04 - val_mse: 7.0510e-04 - val_mae: 0.0142 - 439ms/epoch - 11ms/step\n",
            "Epoch 70/100\n",
            "39/39 - 0s - loss: 5.9457e-04 - mse: 5.9457e-04 - mae: 0.0163 - val_loss: 7.0605e-04 - val_mse: 7.0605e-04 - val_mae: 0.0143 - 419ms/epoch - 11ms/step\n",
            "Epoch 71/100\n",
            "39/39 - 0s - loss: 5.9824e-04 - mse: 5.9824e-04 - mae: 0.0164 - val_loss: 7.0557e-04 - val_mse: 7.0557e-04 - val_mae: 0.0144 - 406ms/epoch - 10ms/step\n",
            "Epoch 72/100\n",
            "39/39 - 0s - loss: 5.9870e-04 - mse: 5.9870e-04 - mae: 0.0165 - val_loss: 7.0291e-04 - val_mse: 7.0291e-04 - val_mae: 0.0144 - 408ms/epoch - 10ms/step\n",
            "Epoch 73/100\n",
            "39/39 - 0s - loss: 5.9589e-04 - mse: 5.9589e-04 - mae: 0.0164 - val_loss: 6.9821e-04 - val_mse: 6.9821e-04 - val_mae: 0.0143 - 420ms/epoch - 11ms/step\n",
            "Epoch 74/100\n",
            "39/39 - 0s - loss: 5.9133e-04 - mse: 5.9133e-04 - mae: 0.0163 - val_loss: 6.9279e-04 - val_mse: 6.9279e-04 - val_mae: 0.0142 - 405ms/epoch - 10ms/step\n",
            "Epoch 75/100\n",
            "39/39 - 0s - loss: 5.8736e-04 - mse: 5.8736e-04 - mae: 0.0162 - val_loss: 6.8857e-04 - val_mse: 6.8857e-04 - val_mae: 0.0142 - 428ms/epoch - 11ms/step\n",
            "Epoch 76/100\n",
            "39/39 - 0s - loss: 5.8536e-04 - mse: 5.8536e-04 - mae: 0.0161 - val_loss: 6.8606e-04 - val_mse: 6.8606e-04 - val_mae: 0.0141 - 426ms/epoch - 11ms/step\n",
            "Epoch 77/100\n",
            "39/39 - 0s - loss: 5.8446e-04 - mse: 5.8446e-04 - mae: 0.0161 - val_loss: 6.8358e-04 - val_mse: 6.8358e-04 - val_mae: 0.0141 - 414ms/epoch - 11ms/step\n",
            "Epoch 78/100\n",
            "39/39 - 0s - loss: 5.8432e-04 - mse: 5.8432e-04 - mae: 0.0161 - val_loss: 6.8176e-04 - val_mse: 6.8176e-04 - val_mae: 0.0142 - 409ms/epoch - 10ms/step\n",
            "Epoch 79/100\n",
            "39/39 - 0s - loss: 5.8722e-04 - mse: 5.8722e-04 - mae: 0.0162 - val_loss: 6.8385e-04 - val_mse: 6.8385e-04 - val_mae: 0.0143 - 414ms/epoch - 11ms/step\n",
            "Epoch 80/100\n",
            "39/39 - 0s - loss: 5.9139e-04 - mse: 5.9139e-04 - mae: 0.0163 - val_loss: 6.8342e-04 - val_mse: 6.8342e-04 - val_mae: 0.0143 - 416ms/epoch - 11ms/step\n",
            "Epoch 81/100\n",
            "39/39 - 0s - loss: 5.9275e-04 - mse: 5.9275e-04 - mae: 0.0164 - val_loss: 6.8062e-04 - val_mse: 6.8062e-04 - val_mae: 0.0143 - 406ms/epoch - 10ms/step\n",
            "Epoch 82/100\n",
            "39/39 - 0s - loss: 5.9891e-04 - mse: 5.9891e-04 - mae: 0.0166 - val_loss: 6.8965e-04 - val_mse: 6.8965e-04 - val_mae: 0.0146 - 403ms/epoch - 10ms/step\n",
            "Epoch 83/100\n",
            "39/39 - 0s - loss: 6.0699e-04 - mse: 6.0699e-04 - mae: 0.0168 - val_loss: 6.8976e-04 - val_mse: 6.8976e-04 - val_mae: 0.0147 - 411ms/epoch - 11ms/step\n",
            "Epoch 84/100\n",
            "39/39 - 0s - loss: 6.0021e-04 - mse: 6.0021e-04 - mae: 0.0166 - val_loss: 6.8394e-04 - val_mse: 6.8394e-04 - val_mae: 0.0145 - 414ms/epoch - 11ms/step\n",
            "Epoch 85/100\n",
            "39/39 - 0s - loss: 5.9095e-04 - mse: 5.9095e-04 - mae: 0.0163 - val_loss: 6.7488e-04 - val_mse: 6.7488e-04 - val_mae: 0.0143 - 433ms/epoch - 11ms/step\n",
            "Epoch 86/100\n",
            "39/39 - 0s - loss: 5.7605e-04 - mse: 5.7605e-04 - mae: 0.0159 - val_loss: 6.6327e-04 - val_mse: 6.6327e-04 - val_mae: 0.0140 - 414ms/epoch - 11ms/step\n",
            "Epoch 87/100\n",
            "39/39 - 0s - loss: 5.6377e-04 - mse: 5.6377e-04 - mae: 0.0156 - val_loss: 6.5349e-04 - val_mse: 6.5349e-04 - val_mae: 0.0137 - 410ms/epoch - 11ms/step\n",
            "Epoch 88/100\n",
            "39/39 - 0s - loss: 5.5672e-04 - mse: 5.5672e-04 - mae: 0.0154 - val_loss: 6.5133e-04 - val_mse: 6.5133e-04 - val_mae: 0.0137 - 414ms/epoch - 11ms/step\n",
            "Epoch 89/100\n",
            "39/39 - 0s - loss: 5.5858e-04 - mse: 5.5858e-04 - mae: 0.0154 - val_loss: 6.5212e-04 - val_mse: 6.5212e-04 - val_mae: 0.0138 - 424ms/epoch - 11ms/step\n",
            "Epoch 90/100\n",
            "39/39 - 0s - loss: 5.6325e-04 - mse: 5.6325e-04 - mae: 0.0156 - val_loss: 6.5520e-04 - val_mse: 6.5520e-04 - val_mae: 0.0139 - 421ms/epoch - 11ms/step\n",
            "Epoch 91/100\n",
            "39/39 - 0s - loss: 5.7234e-04 - mse: 5.7234e-04 - mae: 0.0159 - val_loss: 6.6082e-04 - val_mse: 6.6082e-04 - val_mae: 0.0142 - 412ms/epoch - 11ms/step\n",
            "Epoch 92/100\n",
            "39/39 - 0s - loss: 5.8264e-04 - mse: 5.8264e-04 - mae: 0.0162 - val_loss: 6.6661e-04 - val_mse: 6.6661e-04 - val_mae: 0.0144 - 428ms/epoch - 11ms/step\n",
            "Epoch 93/100\n",
            "39/39 - 0s - loss: 5.9079e-04 - mse: 5.9079e-04 - mae: 0.0164 - val_loss: 6.7040e-04 - val_mse: 6.7040e-04 - val_mae: 0.0145 - 420ms/epoch - 11ms/step\n",
            "Epoch 94/100\n",
            "39/39 - 0s - loss: 5.9140e-04 - mse: 5.9140e-04 - mae: 0.0164 - val_loss: 6.6847e-04 - val_mse: 6.6847e-04 - val_mae: 0.0144 - 429ms/epoch - 11ms/step\n",
            "Epoch 95/100\n",
            "39/39 - 0s - loss: 5.8493e-04 - mse: 5.8493e-04 - mae: 0.0163 - val_loss: 6.6194e-04 - val_mse: 6.6194e-04 - val_mae: 0.0143 - 423ms/epoch - 11ms/step\n",
            "Epoch 96/100\n",
            "39/39 - 0s - loss: 5.7272e-04 - mse: 5.7272e-04 - mae: 0.0159 - val_loss: 6.5274e-04 - val_mse: 6.5274e-04 - val_mae: 0.0140 - 414ms/epoch - 11ms/step\n",
            "Epoch 97/100\n",
            "39/39 - 0s - loss: 5.6293e-04 - mse: 5.6293e-04 - mae: 0.0156 - val_loss: 6.4619e-04 - val_mse: 6.4619e-04 - val_mae: 0.0138 - 436ms/epoch - 11ms/step\n",
            "Epoch 98/100\n",
            "39/39 - 0s - loss: 5.5689e-04 - mse: 5.5689e-04 - mae: 0.0154 - val_loss: 6.4306e-04 - val_mse: 6.4306e-04 - val_mae: 0.0138 - 401ms/epoch - 10ms/step\n",
            "Epoch 99/100\n",
            "39/39 - 0s - loss: 5.5858e-04 - mse: 5.5858e-04 - mae: 0.0155 - val_loss: 6.4502e-04 - val_mse: 6.4502e-04 - val_mae: 0.0139 - 411ms/epoch - 11ms/step\n",
            "Epoch 100/100\n",
            "39/39 - 0s - loss: 5.6356e-04 - mse: 5.6356e-04 - mae: 0.0157 - val_loss: 6.4851e-04 - val_mse: 6.4851e-04 - val_mae: 0.0140 - 410ms/epoch - 11ms/step\n"
          ]
        },
        {
          "output_type": "display_data",
          "data": {
            "text/plain": [
              "<Figure size 432x288 with 1 Axes>"
            ],
            "image/png": "[encoded data removed]"
          },
          "metadata": {
            "needs_background": "light"
          }
        }
      ]
    },
    {
      "cell_type": "code",
      "source": [
        "yhat = model.predict(test_X)\n",
        "test_X = test_X.reshape((test_X.shape[0], n_lag*n_features))"
      ],
      "metadata": {
        "id": "Se4hpX2HqHGk"
      },
      "execution_count": 19,
      "outputs": []
    },
    {
      "cell_type": "code",
      "source": [
        "#Invert scaling for forecast\n",
        "inv_yhat = concatenate((yhat, test_X[:, -(n_features-1):]), axis=1)\n",
        "inv_yhat = scaler.inverse_transform(inv_yhat)\n",
        "inv_yhat = inv_yhat[:,0]"
      ],
      "metadata": {
        "id": "CBlm2P7a8hpe"
      },
      "execution_count": 20,
      "outputs": []
    },
    {
      "cell_type": "code",
      "source": [
        "#Invert scaling for actual\n",
        "test_y = test_y.reshape((len(test_y), 1))\n",
        "inv_y = concatenate((test_y, test_X[:, -(n_features-1):]), axis=1)\n",
        "inv_y = scaler.inverse_transform(inv_y)\n",
        "inv_y = inv_y[:,0]"
      ],
      "metadata": {
        "id": "YWSSbpZt8kX6"
      },
      "execution_count": 21,
      "outputs": []
    },
    {
      "cell_type": "code",
      "source": [
        "def da(y_true,y_pred):\n",
        "  sum=0\n",
        "  for i in range(y_true.size-1):\n",
        "    dt=(y_true[i+1]-y_true[i])*(y_pred[i+1]-y_true[i])\n",
        "    if(dt>=0):\n",
        "      sum=sum+1\n",
        "  return sum/(y_true.size-1)"
      ],
      "metadata": {
        "id": "jI5eWLrA84Cx"
      },
      "execution_count": 22,
      "outputs": []
    },
    {
      "cell_type": "code",
      "source": [
        "def evaluateModel(inv_y,inv_yhat):\n",
        "  rmse = sqrt(mean_squared_error(inv_y, inv_yhat))\n",
        "  print('Test RMSE: %.3f' % rmse)\n",
        "  print('R2_Score: %.3f' % r2_score(inv_y,inv_yhat))\n",
        "  print(\"MAE:\", mean_absolute_error(inv_y,inv_yhat))\n",
        "  print(\"Directionnal Accuracy:\", da(inv_y,inv_yhat))"
      ],
      "metadata": {
        "id": "6TxN9esJ9K38"
      },
      "execution_count": 23,
      "outputs": []
    },
    {
      "cell_type": "code",
      "source": [
        "evaluateModel(inv_yhat,inv_y)"
      ],
      "metadata": {
        "colab": {
          "base_uri": "https://localhost:8080/"
        },
        "id": "6xitLfk-8qDp",
        "outputId": "40582604-cf1e-4f6d-e606-e380bcb5a3ab"
      },
      "execution_count": 24,
      "outputs": [
        {
          "output_type": "stream",
          "name": "stdout",
          "text": [
            "Test RMSE: 97.266\n",
            "R2_Score: 0.872\n",
            "MAE: 75.83679\n",
            "Directionnal Accuracy: 0.5914691943127962\n"
          ]
        }
      ]
    },
    {
      "cell_type": "code",
      "source": [
        "def trend_error(y_true,y_pred,n):\n",
        "  s=type_one=type_two=0\n",
        "  for i in range(y_true.size-1):\n",
        "    actual_diff=y_true[i+1]-y_true[i]\n",
        "    pred_diff=y_pred[i+1]-y_true[i]\n",
        "    if(actual_diff<0 and pred_diff>0):\n",
        "      type_one=type_one+1\n",
        "    elif(actual_diff>0 and pred_diff<0):\n",
        "      type_two=type_two+1\n",
        "    else:\n",
        "      s=s+1\n",
        "  return (s/n,type_one/n,type_two/n)"
      ],
      "metadata": {
        "id": "PyxQoRqJBV5a"
      },
      "execution_count": 25,
      "outputs": []
    },
    {
      "cell_type": "code",
      "source": [
        "trend_error(inv_y,inv_yhat, inv_y.size)"
      ],
      "metadata": {
        "colab": {
          "base_uri": "https://localhost:8080/"
        },
        "id": "GuNm_eN4CDGc",
        "outputId": "f2e211fb-6248-4a76-eea2-b79aad266c1f"
      },
      "execution_count": 26,
      "outputs": [
        {
          "output_type": "execute_result",
          "data": {
            "text/plain": [
              "(0.4914772727272727, 0.5075757575757576, 0.0)"
            ]
          },
          "metadata": {},
          "execution_count": 26
        }
      ]
    },
    {
      "cell_type": "code",
      "source": [
        "df = pd.DataFrame({'Actual':inv_y,'Predicted':inv_yhat,'Error': inv_y-inv_yhat,})\n",
        "\n",
        "print(df.shape)\n",
        "print(x_test_panda.shape)"
      ],
      "metadata": {
        "colab": {
          "base_uri": "https://localhost:8080/"
        },
        "id": "MlLdb7VbCG0T",
        "outputId": "b89b3314-3c83-402d-8bd3-9fadec17016e"
      },
      "execution_count": 27,
      "outputs": [
        {
          "output_type": "stream",
          "name": "stdout",
          "text": [
            "(1056, 3)\n",
            "(1068, 6)\n"
          ]
        }
      ]
    },
    {
      "cell_type": "code",
      "source": [
        "y=x_test_panda.iloc[12:,]\n",
        "true=y['Close']\n",
        "\n",
        "true_x=np.array(true)\n",
        "pred_x=np.array(df['Actual'])"
      ],
      "metadata": {
        "id": "shrQ3zcfCTYY"
      },
      "execution_count": 28,
      "outputs": []
    },
    {
      "cell_type": "code",
      "source": [
        "count=0\n",
        "for i in range(true_x.size):\n",
        "  if(true_x[i]==int(pred_x[i])):\n",
        "    count=count+1\n",
        "print(count)"
      ],
      "metadata": {
        "colab": {
          "base_uri": "https://localhost:8080/"
        },
        "id": "KebnkuH_CoFN",
        "outputId": "e5a36ba5-a4cb-4f2f-cd99-c0fb93754caa"
      },
      "execution_count": 29,
      "outputs": [
        {
          "output_type": "stream",
          "name": "stdout",
          "text": [
            "1014\n"
          ]
        }
      ]
    },
    {
      "cell_type": "code",
      "source": [
        "output_data=df.set_index(y.index)\n",
        "\n",
        "output_data.plot(subplots=True, figsize=(16, 10))"
      ],
      "metadata": {
        "colab": {
          "base_uri": "https://localhost:8080/",
          "height": 675
        },
        "id": "cBHsG-6-C8_8",
        "outputId": "98f5f052-6dca-4d18-da67-27ad3c39a55d"
      },
      "execution_count": 30,
      "outputs": [
        {
          "output_type": "execute_result",
          "data": {
            "text/plain": [
              "array([<matplotlib.axes._subplots.AxesSubplot object at 0x7f7d3aadc6d0>,\n",
              "       <matplotlib.axes._subplots.AxesSubplot object at 0x7f7d3a808850>,\n",
              "       <matplotlib.axes._subplots.AxesSubplot object at 0x7f7d3a7ea790>],\n",
              "      dtype=object)"
            ]
          },
          "metadata": {},
          "execution_count": 30
        },
        {
          "output_type": "display_data",
          "data": {
            "text/plain": [
              "<Figure size 1152x720 with 3 Axes>"
            ],
            "image/png": "[encoded data removed]"
          },
          "metadata": {
            "needs_background": "light"
          }
        }
      ]
    },
    {
      "cell_type": "code",
      "source": [
        "#Save the output of each model to perform the DM-Test\n",
        "file_path = \"/content/drive/MyDrive/Dissertation/\"\n",
        "file_name = file_path + m_name + '_' + m_set +'_Result.csv'\n",
        "output_data.to_csv(file_name,index=True)\n"
      ],
      "metadata": {
        "id": "XrXm397bH8P5"
      },
      "execution_count": 31,
      "outputs": []
    }
  ]
}